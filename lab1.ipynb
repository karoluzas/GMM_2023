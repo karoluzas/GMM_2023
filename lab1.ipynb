{
 "cells": [
  {
   "attachments": {},
   "cell_type": "markdown",
   "metadata": {},
   "source": [
    "Karolis Vėgėla, 2016061,\n",
    "Classes ['Balloon', 'Hamster', 'Cannon']\n",
    "Using ResNet50"
   ]
  },
  {
   "cell_type": "code",
   "execution_count": 1,
   "metadata": {},
   "outputs": [],
   "source": [
    "import tensorflow as tf\n",
    "import numpy as np\n",
    "import os"
   ]
  },
  {
   "cell_type": "code",
   "execution_count": 2,
   "metadata": {},
   "outputs": [],
   "source": [
    "DATA_DIRECTORY = '.\\\\validation'\n",
    "CATEGORIES = ['balloon', 'hamster', 'cannon']\n",
    "CATEGORY_METRICS = []\n",
    "threshold = 0.1"
   ]
  },
  {
   "cell_type": "code",
   "execution_count": 3,
   "metadata": {},
   "outputs": [
    {
     "data": {
      "text/plain": [
       "[{'label': 'balloon', 'label_index': 417, 'TP': 0, 'FP': 0, 'TN': 0, 'FN': 0},\n",
       " {'label': 'hamster', 'label_index': 333, 'TP': 0, 'FP': 0, 'TN': 0, 'FN': 0},\n",
       " {'label': 'cannon', 'label_index': 471, 'TP': 0, 'FP': 0, 'TN': 0, 'FN': 0}]"
      ]
     },
     "execution_count": 3,
     "metadata": {},
     "output_type": "execute_result"
    }
   ],
   "source": [
    "for i in CATEGORIES:\n",
    "    CATEGORY_METRICS.append({\n",
    "        'label': i,\n",
    "        'label_index': 0,\n",
    "        'TP': 0,\n",
    "        'FP': 0,\n",
    "        'TN': 0,\n",
    "        'FN': 0\n",
    "    })\n",
    "CATEGORY_METRICS[0]['label_index'] = 417\n",
    "CATEGORY_METRICS[1]['label_index'] = 333\n",
    "CATEGORY_METRICS[2]['label_index'] = 471\n",
    "CATEGORY_METRICS"
   ]
  },
  {
   "cell_type": "code",
   "execution_count": 4,
   "metadata": {},
   "outputs": [],
   "source": [
    "# Paths to all the images\n",
    "balloon_file_paths = [os.path.join(DATA_DIRECTORY + '\\\\' + CATEGORIES[0], file) for file in os.listdir(DATA_DIRECTORY + '\\\\' + CATEGORIES[0])]\n",
    "hamster_file_paths = [os.path.join(DATA_DIRECTORY + '\\\\' + CATEGORIES[1], file) for file in os.listdir(DATA_DIRECTORY + '\\\\' + CATEGORIES[1])]\n",
    "cannon_file_paths = [os.path.join(DATA_DIRECTORY + '\\\\' + CATEGORIES[2], file) for file in os.listdir(DATA_DIRECTORY + '\\\\' + CATEGORIES[2])]\n",
    "\n",
    "all_image_paths = balloon_file_paths + hamster_file_paths + cannon_file_paths"
   ]
  },
  {
   "cell_type": "code",
   "execution_count": 5,
   "metadata": {},
   "outputs": [],
   "source": [
    "# Labeling the images.\n",
    "balloon_labels = [417] * len(balloon_file_paths)\n",
    "hamster_labels = [333] * len(hamster_file_paths)\n",
    "cannon_labels = [471] * len(cannon_file_paths)\n",
    "labels = balloon_labels + hamster_labels + cannon_labels"
   ]
  },
  {
   "cell_type": "code",
   "execution_count": 6,
   "metadata": {},
   "outputs": [],
   "source": [
    "# Data generator\n",
    "def data_image_generator(all_image_paths, labels):\n",
    "    for i in range(len(all_image_paths)):\n",
    "        image = tf.keras.preprocessing.image.load_img(all_image_paths[i], target_size=(224, 224))\n",
    "        image = tf.keras.preprocessing.image.img_to_array(image)\n",
    "        yield image, labels[i]"
   ]
  },
  {
   "cell_type": "code",
   "execution_count": 7,
   "metadata": {},
   "outputs": [],
   "source": [
    "# Creating a dataset\n",
    "ds_validate = tf.data.Dataset.from_generator(\n",
    "    generator=data_image_generator, \n",
    "    args = (all_image_paths, labels),\n",
    "    output_types = (tf.float32, tf.int32)\n",
    ")\n",
    "ds_validate = ds_validate.cache()\n",
    "ds_validate = ds_validate.batch(32)\n",
    "ds_validate = ds_validate.prefetch(tf.data.AUTOTUNE)"
   ]
  },
  {
   "cell_type": "code",
   "execution_count": 8,
   "metadata": {},
   "outputs": [
    {
     "name": "stdout",
     "output_type": "stream",
     "text": [
      "32/32 [==============================] - 55s 2s/step\n"
     ]
    }
   ],
   "source": [
    "# Initializing model and making predictions\n",
    "model = tf.keras.applications.ResNet50()\n",
    "predictions = model.predict(ds_validate)"
   ]
  },
  {
   "cell_type": "code",
   "execution_count": 9,
   "metadata": {},
   "outputs": [],
   "source": [
    "# Labels of predictions\n",
    "predicted_labels = [] \n",
    "for i in range(len(labels)):\n",
    "    predicted_labels.append(np.argmax(predictions[i] >= threshold))"
   ]
  },
  {
   "cell_type": "code",
   "execution_count": 10,
   "metadata": {},
   "outputs": [],
   "source": [
    "predicted_labels = np.array(predicted_labels)\n",
    "labels = np.array(labels)"
   ]
  },
  {
   "cell_type": "code",
   "execution_count": 11,
   "metadata": {},
   "outputs": [],
   "source": [
    "def values_calculator(pred_labels, true_labels, index):\n",
    "    tp = np.sum((pred_labels == index) & (true_labels == index))\n",
    "    fp = np.sum((pred_labels == index) & (true_labels != index))\n",
    "    tn = np.sum((pred_labels != index) & (true_labels != index))\n",
    "    fn = np.sum((pred_labels != index) & (true_labels == index))\n",
    "    return tp, fp, tn, fn"
   ]
  },
  {
   "cell_type": "code",
   "execution_count": 12,
   "metadata": {},
   "outputs": [],
   "source": [
    "tp_balloon, fp_balloon, tn_balloon, fn_balloon = values_calculator(predicted_labels, labels, 417)\n",
    "tp_hamster, fp_hamster, tn_hamster, fn_hamster = values_calculator(predicted_labels, labels,333)\n",
    "tp_cannon, fp_cannon, tn_cannon, fn_cannon = values_calculator(predicted_labels, labels, 471)"
   ]
  },
  {
   "cell_type": "code",
   "execution_count": 13,
   "metadata": {},
   "outputs": [],
   "source": [
    "def matrices_calculate(TP, FP, TN, FN):\n",
    "    accuracy = (TP + TN) / (TP + TN + FP + FN)\n",
    "    precision = (TP) / (TP + FP)\n",
    "    recall = (TP) / (TP + FN)\n",
    "    f1 = (2 * precision * recall) / (precision + recall)\n",
    "    return accuracy, precision, recall, f1"
   ]
  },
  {
   "cell_type": "code",
   "execution_count": 14,
   "metadata": {},
   "outputs": [],
   "source": [
    "balloon_acc, balloon_prec, balloon_recall, balloon_f1 = matrices_calculate(tp_balloon, fp_balloon, tn_balloon, fn_balloon)\n",
    "hamster_acc, hamster_prec, hamster_recall, hamster_f1 = matrices_calculate(tp_hamster, fp_hamster, tn_hamster, fn_hamster)\n",
    "cannon_acc, cannon_prec, cannon_recall, cannon_f1 = matrices_calculate(tp_cannon, fp_cannon, tn_cannon, fn_cannon)"
   ]
  },
  {
   "cell_type": "code",
   "execution_count": 15,
   "metadata": {},
   "outputs": [],
   "source": [
    "def print_results(acc, prec, recall, f1, name):\n",
    "    print(f'{name} - accuracy: {acc}, precision: {prec}, recall: {recall}, f1: {f1}')"
   ]
  },
  {
   "cell_type": "code",
   "execution_count": 16,
   "metadata": {},
   "outputs": [
    {
     "name": "stdout",
     "output_type": "stream",
     "text": [
      "Balloon - accuracy: 0.7637637637637638, precision: 1.0, recall: 0.2912912912912913, f1: 0.4511627906976744\n",
      "Hamster - accuracy: 0.8328328328328328, precision: 1.0, recall: 0.4984984984984985, f1: 0.6653306613226452\n",
      "Cannon - accuracy: 0.8348348348348348, precision: 1.0, recall: 0.5045045045045045, f1: 0.6706586826347305\n"
     ]
    }
   ],
   "source": [
    "print_results(balloon_acc, balloon_prec, balloon_recall, balloon_f1, 'Balloon')\n",
    "print_results(hamster_acc, hamster_prec, hamster_recall, hamster_f1, 'Hamster')\n",
    "print_results(cannon_acc, cannon_prec, cannon_recall, cannon_f1, 'Cannon')"
   ]
  }
 ],
 "metadata": {
  "kernelspec": {
   "display_name": "Python 3",
   "language": "python",
   "name": "python3"
  },
  "language_info": {
   "codemirror_mode": {
    "name": "ipython",
    "version": 3
   },
   "file_extension": ".py",
   "mimetype": "text/x-python",
   "name": "python",
   "nbconvert_exporter": "python",
   "pygments_lexer": "ipython3",
   "version": "3.9.2"
  },
  "orig_nbformat": 4,
  "vscode": {
   "interpreter": {
    "hash": "52634da84371cba311ea128a5ea7cdc41ff074b781779e754b270ff9f8153cee"
   }
  }
 },
 "nbformat": 4,
 "nbformat_minor": 2
}
